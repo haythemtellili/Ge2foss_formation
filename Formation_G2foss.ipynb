{
  "nbformat": 4,
  "nbformat_minor": 0,
  "metadata": {
    "colab": {
      "name": "Formation_G2foss.ipynb",
      "provenance": [],
      "collapsed_sections": []
    },
    "kernelspec": {
      "name": "python3",
      "display_name": "Python 3"
    },
    "accelerator": "TPU"
  },
  "cells": [
    {
      "cell_type": "markdown",
      "metadata": {
        "id": "ycUtcw5OTI55",
        "colab_type": "text"
      },
      "source": [
        "# After an introduction to machine learning that we did in the two previous sessions and the problem of classification that we worked on and the main steps we must go through in order to solve the problems.\n",
        "\n",
        "\n",
        "\n",
        "*   ***we are here to see a problem of regression and see some technique to solve it***\n",
        "*  **This netbook made by Haythem Tellili**\n",
        "\n",
        "\n",
        "\n",
        "\n",
        "\n"
      ]
    },
    {
      "cell_type": "markdown",
      "metadata": {
        "id": "EUr6i-Fvttey",
        "colab_type": "text"
      },
      "source": [
        "# **Flight Delay Prediction Challenge**"
      ]
    },
    {
      "cell_type": "markdown",
      "metadata": {
        "id": "2xUAuJR6uGTt",
        "colab_type": "text"
      },
      "source": [
        "![alt text](https://www.ibmbigdatahub.com/sites/default/files/flightdelays_embed.jpg)"
      ]
    },
    {
      "cell_type": "markdown",
      "metadata": {
        "id": "FR3BHDc5u0u9",
        "colab_type": "text"
      },
      "source": [
        "**To solve a machine learning problem there is some steps we should do and other things we should check:**\n",
        "\n",
        "*  Step 1: Problem definition and Building intuition about the data\n",
        "*  Step 2: Exploratory Data Analysis \n",
        "*  Step 3: Feature Engineering: Feature selection and generation\n",
        "*  Step 4: Modeling\n",
        "*  Step 5: Evaluation Strategy\n",
        "*  Step 6: Optimization (RMSE)\n",
        "\n",
        "\n",
        "\n",
        "\n"
      ]
    },
    {
      "cell_type": "markdown",
      "metadata": {
        "id": "-dK6KJhY2qwn",
        "colab_type": "text"
      },
      "source": [
        "**Metrics: root mean square error**"
      ]
    },
    {
      "cell_type": "markdown",
      "metadata": {
        "id": "qtxFEuKY23An",
        "colab_type": "text"
      },
      "source": [
        "![alt text](https://www.includehelp.com/ml-ai/Images/rmse-1.jpg)"
      ]
    },
    {
      "cell_type": "code",
      "metadata": {
        "id": "e3HdunQHNFuE",
        "colab_type": "code",
        "colab": {}
      },
      "source": [
        "import numpy as np \n",
        "import pandas as pd \n",
        "import matplotlib.pyplot as plt\n",
        "import seaborn as sns\n",
        "import lightgbm as lgb\n",
        "import xgboost as xgb\n",
        "from sklearn.model_selection import KFold, cross_val_score, train_test_split\n",
        "import time\n",
        "import datetime\n",
        "import matplotlib.pyplot as plt\n",
        "import seaborn as sns\n",
        "from sklearn.metrics import mean_squared_error\n"
      ],
      "execution_count": 0,
      "outputs": []
    },
    {
      "cell_type": "code",
      "metadata": {
        "id": "rT-D1DES5_wv",
        "colab_type": "code",
        "colab": {}
      },
      "source": [
        "train=pd.read_csv('./Train(4).csv')\n",
        "test=pd.read_csv('./Test(4).csv')\n",
        "sub=pd.read_csv('/content/SampleSubmission(10).csv')"
      ],
      "execution_count": 0,
      "outputs": []
    },
    {
      "cell_type": "code",
      "metadata": {
        "id": "CRiFHGGMgDkL",
        "colab_type": "code",
        "outputId": "45254997-29c4-48fd-d9fe-eed50a7c5817",
        "colab": {
          "base_uri": "https://localhost:8080/",
          "height": 537
        }
      },
      "source": [
        "train.head(10)"
      ],
      "execution_count": 0,
      "outputs": [
        {
          "output_type": "execute_result",
          "data": {
            "text/html": [
              "<div>\n",
              "<style scoped>\n",
              "    .dataframe tbody tr th:only-of-type {\n",
              "        vertical-align: middle;\n",
              "    }\n",
              "\n",
              "    .dataframe tbody tr th {\n",
              "        vertical-align: top;\n",
              "    }\n",
              "\n",
              "    .dataframe thead th {\n",
              "        text-align: right;\n",
              "    }\n",
              "</style>\n",
              "<table border=\"1\" class=\"dataframe\">\n",
              "  <thead>\n",
              "    <tr style=\"text-align: right;\">\n",
              "      <th></th>\n",
              "      <th>ID</th>\n",
              "      <th>DATOP</th>\n",
              "      <th>FLTID</th>\n",
              "      <th>DEPSTN</th>\n",
              "      <th>ARRSTN</th>\n",
              "      <th>STD</th>\n",
              "      <th>STA</th>\n",
              "      <th>STATUS</th>\n",
              "      <th>AC</th>\n",
              "      <th>target</th>\n",
              "    </tr>\n",
              "  </thead>\n",
              "  <tbody>\n",
              "    <tr>\n",
              "      <th>0</th>\n",
              "      <td>train_id_0</td>\n",
              "      <td>2016-01-03</td>\n",
              "      <td>TU 0712</td>\n",
              "      <td>CMN</td>\n",
              "      <td>TUN</td>\n",
              "      <td>2016-01-03 10:30:00</td>\n",
              "      <td>2016-01-03 12.55.00</td>\n",
              "      <td>ATA</td>\n",
              "      <td>TU 32AIMN</td>\n",
              "      <td>260.0</td>\n",
              "    </tr>\n",
              "    <tr>\n",
              "      <th>1</th>\n",
              "      <td>train_id_1</td>\n",
              "      <td>2016-01-13</td>\n",
              "      <td>TU 0757</td>\n",
              "      <td>MXP</td>\n",
              "      <td>TUN</td>\n",
              "      <td>2016-01-13 15:05:00</td>\n",
              "      <td>2016-01-13 16.55.00</td>\n",
              "      <td>ATA</td>\n",
              "      <td>TU 31BIMO</td>\n",
              "      <td>20.0</td>\n",
              "    </tr>\n",
              "    <tr>\n",
              "      <th>2</th>\n",
              "      <td>train_id_2</td>\n",
              "      <td>2016-01-16</td>\n",
              "      <td>TU 0214</td>\n",
              "      <td>TUN</td>\n",
              "      <td>IST</td>\n",
              "      <td>2016-01-16 04:10:00</td>\n",
              "      <td>2016-01-16 06.45.00</td>\n",
              "      <td>ATA</td>\n",
              "      <td>TU 32AIMN</td>\n",
              "      <td>0.0</td>\n",
              "    </tr>\n",
              "    <tr>\n",
              "      <th>3</th>\n",
              "      <td>train_id_3</td>\n",
              "      <td>2016-01-17</td>\n",
              "      <td>TU 0480</td>\n",
              "      <td>DJE</td>\n",
              "      <td>NTE</td>\n",
              "      <td>2016-01-17 14:10:00</td>\n",
              "      <td>2016-01-17 17.00.00</td>\n",
              "      <td>ATA</td>\n",
              "      <td>TU 736IOK</td>\n",
              "      <td>0.0</td>\n",
              "    </tr>\n",
              "    <tr>\n",
              "      <th>4</th>\n",
              "      <td>train_id_4</td>\n",
              "      <td>2016-01-17</td>\n",
              "      <td>TU 0338</td>\n",
              "      <td>TUN</td>\n",
              "      <td>ALG</td>\n",
              "      <td>2016-01-17 14:30:00</td>\n",
              "      <td>2016-01-17 15.50.00</td>\n",
              "      <td>ATA</td>\n",
              "      <td>TU 320IMU</td>\n",
              "      <td>22.0</td>\n",
              "    </tr>\n",
              "    <tr>\n",
              "      <th>5</th>\n",
              "      <td>train_id_5</td>\n",
              "      <td>2016-01-17</td>\n",
              "      <td>TU 0283</td>\n",
              "      <td>TLS</td>\n",
              "      <td>TUN</td>\n",
              "      <td>2016-01-17 16:20:00</td>\n",
              "      <td>2016-01-17 18.15.00</td>\n",
              "      <td>ATA</td>\n",
              "      <td>TU 736IOP</td>\n",
              "      <td>53.0</td>\n",
              "    </tr>\n",
              "    <tr>\n",
              "      <th>6</th>\n",
              "      <td>train_id_6</td>\n",
              "      <td>2016-01-18</td>\n",
              "      <td>TU 0514</td>\n",
              "      <td>TUN</td>\n",
              "      <td>BCN</td>\n",
              "      <td>2016-01-18 07:15:00</td>\n",
              "      <td>2016-01-18 09.00.00</td>\n",
              "      <td>ATA</td>\n",
              "      <td>TU 32AIMH</td>\n",
              "      <td>10.0</td>\n",
              "    </tr>\n",
              "    <tr>\n",
              "      <th>7</th>\n",
              "      <td>train_id_7</td>\n",
              "      <td>2016-01-18</td>\n",
              "      <td>TU 0716</td>\n",
              "      <td>TUN</td>\n",
              "      <td>ORY</td>\n",
              "      <td>2016-01-18 07:35:00</td>\n",
              "      <td>2016-01-18 09.55.00</td>\n",
              "      <td>ATA</td>\n",
              "      <td>TU 32AIMI</td>\n",
              "      <td>15.0</td>\n",
              "    </tr>\n",
              "    <tr>\n",
              "      <th>8</th>\n",
              "      <td>train_id_8</td>\n",
              "      <td>2016-01-18</td>\n",
              "      <td>TU 0752</td>\n",
              "      <td>TUN</td>\n",
              "      <td>FCO</td>\n",
              "      <td>2016-01-18 07:40:00</td>\n",
              "      <td>2016-01-18 09.00.00</td>\n",
              "      <td>ATA</td>\n",
              "      <td>TU 32AIMC</td>\n",
              "      <td>16.0</td>\n",
              "    </tr>\n",
              "    <tr>\n",
              "      <th>9</th>\n",
              "      <td>train_id_9</td>\n",
              "      <td>2016-01-18</td>\n",
              "      <td>TU 0996</td>\n",
              "      <td>TUN</td>\n",
              "      <td>NCE</td>\n",
              "      <td>2016-01-18 07:45:00</td>\n",
              "      <td>2016-01-18 09.15.00</td>\n",
              "      <td>ATA</td>\n",
              "      <td>TU 31AIMK</td>\n",
              "      <td>21.0</td>\n",
              "    </tr>\n",
              "  </tbody>\n",
              "</table>\n",
              "</div>"
            ],
            "text/plain": [
              "           ID       DATOP     FLTID  ... STATUS         AC target\n",
              "0  train_id_0  2016-01-03  TU 0712   ...    ATA  TU 32AIMN  260.0\n",
              "1  train_id_1  2016-01-13  TU 0757   ...    ATA  TU 31BIMO   20.0\n",
              "2  train_id_2  2016-01-16  TU 0214   ...    ATA  TU 32AIMN    0.0\n",
              "3  train_id_3  2016-01-17  TU 0480   ...    ATA  TU 736IOK    0.0\n",
              "4  train_id_4  2016-01-17  TU 0338   ...    ATA  TU 320IMU   22.0\n",
              "5  train_id_5  2016-01-17  TU 0283   ...    ATA  TU 736IOP   53.0\n",
              "6  train_id_6  2016-01-18  TU 0514   ...    ATA  TU 32AIMH   10.0\n",
              "7  train_id_7  2016-01-18  TU 0716   ...    ATA  TU 32AIMI   15.0\n",
              "8  train_id_8  2016-01-18  TU 0752   ...    ATA  TU 32AIMC   16.0\n",
              "9  train_id_9  2016-01-18  TU 0996   ...    ATA  TU 31AIMK   21.0\n",
              "\n",
              "[10 rows x 10 columns]"
            ]
          },
          "metadata": {
            "tags": []
          },
          "execution_count": 55
        }
      ]
    },
    {
      "cell_type": "code",
      "metadata": {
        "id": "H9e7FGun59Tb",
        "colab_type": "code",
        "outputId": "6bcc748e-361f-4436-ae0a-a23d9d70328d",
        "colab": {
          "base_uri": "https://localhost:8080/",
          "height": 208
        }
      },
      "source": [
        "train.isnull().sum()"
      ],
      "execution_count": 0,
      "outputs": [
        {
          "output_type": "execute_result",
          "data": {
            "text/plain": [
              "ID        0\n",
              "DATOP     0\n",
              "FLTID     0\n",
              "DEPSTN    0\n",
              "ARRSTN    0\n",
              "STD       0\n",
              "STA       0\n",
              "STATUS    0\n",
              "AC        0\n",
              "target    0\n",
              "dtype: int64"
            ]
          },
          "metadata": {
            "tags": []
          },
          "execution_count": 56
        }
      ]
    },
    {
      "cell_type": "code",
      "metadata": {
        "id": "cAKX7S6E6cHn",
        "colab_type": "code",
        "outputId": "af0635d6-e17e-4779-a920-cd124b001588",
        "colab": {
          "base_uri": "https://localhost:8080/",
          "height": 300
        }
      },
      "source": [
        "train.describe()"
      ],
      "execution_count": 0,
      "outputs": [
        {
          "output_type": "execute_result",
          "data": {
            "text/html": [
              "<div>\n",
              "<style scoped>\n",
              "    .dataframe tbody tr th:only-of-type {\n",
              "        vertical-align: middle;\n",
              "    }\n",
              "\n",
              "    .dataframe tbody tr th {\n",
              "        vertical-align: top;\n",
              "    }\n",
              "\n",
              "    .dataframe thead th {\n",
              "        text-align: right;\n",
              "    }\n",
              "</style>\n",
              "<table border=\"1\" class=\"dataframe\">\n",
              "  <thead>\n",
              "    <tr style=\"text-align: right;\">\n",
              "      <th></th>\n",
              "      <th>target</th>\n",
              "    </tr>\n",
              "  </thead>\n",
              "  <tbody>\n",
              "    <tr>\n",
              "      <th>count</th>\n",
              "      <td>107833.000000</td>\n",
              "    </tr>\n",
              "    <tr>\n",
              "      <th>mean</th>\n",
              "      <td>48.733013</td>\n",
              "    </tr>\n",
              "    <tr>\n",
              "      <th>std</th>\n",
              "      <td>117.135562</td>\n",
              "    </tr>\n",
              "    <tr>\n",
              "      <th>min</th>\n",
              "      <td>0.000000</td>\n",
              "    </tr>\n",
              "    <tr>\n",
              "      <th>25%</th>\n",
              "      <td>0.000000</td>\n",
              "    </tr>\n",
              "    <tr>\n",
              "      <th>50%</th>\n",
              "      <td>14.000000</td>\n",
              "    </tr>\n",
              "    <tr>\n",
              "      <th>75%</th>\n",
              "      <td>43.000000</td>\n",
              "    </tr>\n",
              "    <tr>\n",
              "      <th>max</th>\n",
              "      <td>3451.000000</td>\n",
              "    </tr>\n",
              "  </tbody>\n",
              "</table>\n",
              "</div>"
            ],
            "text/plain": [
              "              target\n",
              "count  107833.000000\n",
              "mean       48.733013\n",
              "std       117.135562\n",
              "min         0.000000\n",
              "25%         0.000000\n",
              "50%        14.000000\n",
              "75%        43.000000\n",
              "max      3451.000000"
            ]
          },
          "metadata": {
            "tags": []
          },
          "execution_count": 57
        }
      ]
    },
    {
      "cell_type": "code",
      "metadata": {
        "id": "wtakE47K6f2W",
        "colab_type": "code",
        "outputId": "03b0eb55-8765-4d9b-d7c0-57902eeaca20",
        "colab": {
          "base_uri": "https://localhost:8080/",
          "height": 356
        }
      },
      "source": [
        "plt.hist(train['target'])"
      ],
      "execution_count": 0,
      "outputs": [
        {
          "output_type": "execute_result",
          "data": {
            "text/plain": [
              "(array([1.05354e+05, 1.98900e+03, 3.11000e+02, 6.80000e+01, 3.90000e+01,\n",
              "        3.10000e+01, 9.00000e+00, 2.50000e+01, 4.00000e+00, 3.00000e+00]),\n",
              " array([   0. ,  345.1,  690.2, 1035.3, 1380.4, 1725.5, 2070.6, 2415.7,\n",
              "        2760.8, 3105.9, 3451. ]),\n",
              " <a list of 10 Patch objects>)"
            ]
          },
          "metadata": {
            "tags": []
          },
          "execution_count": 58
        },
        {
          "output_type": "display_data",
          "data": {
            "image/png": "[encoded data removed]",
            "text/plain": [
              "<Figure size 432x288 with 1 Axes>"
            ]
          },
          "metadata": {
            "tags": []
          }
        }
      ]
    },
    {
      "cell_type": "code",
      "metadata": {
        "id": "oQZpd7B07EDb",
        "colab_type": "code",
        "outputId": "1a8b6770-03ef-4b90-ba6c-d765612d9963",
        "colab": {
          "base_uri": "https://localhost:8080/",
          "height": 283
        }
      },
      "source": [
        "sns.distplot(train['target']);"
      ],
      "execution_count": 0,
      "outputs": [
        {
          "output_type": "display_data",
          "data": {
            "image/png": "[encoded data removed]",
            "text/plain": [
              "<Figure size 432x288 with 1 Axes>"
            ]
          },
          "metadata": {
            "tags": []
          }
        }
      ]
    },
    {
      "cell_type": "code",
      "metadata": {
        "id": "OgC3SmnRMuTQ",
        "colab_type": "code",
        "outputId": "8d9f3a4e-fe8b-4b20-dd17-3e2baa17718c",
        "colab": {
          "base_uri": "https://localhost:8080/",
          "height": 283
        }
      },
      "source": [
        "import numpy as np\n",
        "sns.distplot(np.log1p(train[\"target\"]));"
      ],
      "execution_count": 0,
      "outputs": [
        {
          "output_type": "display_data",
          "data": {
            "image/png": "[encoded data removed]",
            "text/plain": [
              "<Figure size 432x288 with 1 Axes>"
            ]
          },
          "metadata": {
            "tags": []
          }
        }
      ]
    },
    {
      "cell_type": "code",
      "metadata": {
        "id": "4EhVAxE1NjXp",
        "colab_type": "code",
        "colab": {}
      },
      "source": [
        "target=np.log1p(train[\"target\"])"
      ],
      "execution_count": 0,
      "outputs": []
    },
    {
      "cell_type": "markdown",
      "metadata": {
        "id": "2Sf3HxxCjrCi",
        "colab_type": "text"
      },
      "source": [
        "# **Feature engineering **"
      ]
    },
    {
      "cell_type": "code",
      "metadata": {
        "id": "G6h8ADUroOpr",
        "colab_type": "code",
        "colab": {}
      },
      "source": [
        "train['STA'] =  pd.to_datetime(train['STA'], format='%Y-%m-%d %H.%M.%S')\n",
        "train['STD'] =  pd.to_datetime(train['STD'], format='%Y-%m-%d %H:%M:%S')"
      ],
      "execution_count": 0,
      "outputs": []
    },
    {
      "cell_type": "code",
      "metadata": {
        "id": "V95bNa5jo0Dd",
        "colab_type": "code",
        "colab": {}
      },
      "source": [
        "test['STA'] =  pd.to_datetime(test['STA'], format='%Y-%m-%d %H.%M.%S')\n",
        "test['STD'] =  pd.to_datetime(test['STD'], format='%Y-%m-%d %H:%M:%S')"
      ],
      "execution_count": 0,
      "outputs": []
    },
    {
      "cell_type": "code",
      "metadata": {
        "id": "BZ1K-tKixfv_",
        "colab_type": "code",
        "colab": {}
      },
      "source": [
        "train['diff_minutes'] = train['STA'] - train['STD']\n",
        "train['diff_minutes']=train['diff_minutes']/np.timedelta64(1,'m')\n",
        "\n",
        "test['diff_minutes'] = test['STA'] - test['STD']\n",
        "test['diff_minutes']=test['diff_minutes']/np.timedelta64(1,'m')"
      ],
      "execution_count": 0,
      "outputs": []
    },
    {
      "cell_type": "code",
      "metadata": {
        "id": "dal6qmx9QFN-",
        "colab_type": "code",
        "outputId": "a129d488-42b8-48d5-d42e-c83b3d479a9b",
        "colab": {
          "base_uri": "https://localhost:8080/",
          "height": 173
        }
      },
      "source": [
        "train['diff_minutes'].describe()"
      ],
      "execution_count": 0,
      "outputs": [
        {
          "output_type": "execute_result",
          "data": {
            "text/plain": [
              "count    107833.000000\n",
              "mean        222.629687\n",
              "std        5077.970136\n",
              "min          10.000000\n",
              "25%          95.000000\n",
              "50%         140.000000\n",
              "75%         165.000000\n",
              "max      719520.000000\n",
              "Name: diff_minutes, dtype: float64"
            ]
          },
          "metadata": {
            "tags": []
          },
          "execution_count": 65
        }
      ]
    },
    {
      "cell_type": "code",
      "metadata": {
        "id": "csbzGFoGsyEa",
        "colab_type": "code",
        "colab": {}
      },
      "source": [
        "train['DATOP']=pd.to_datetime(train['DATOP'])\n",
        "train['day1'] = train['STA'].dt.day\n",
        "train['day'] = train['DATOP'].dt.day\n",
        "train['day2']=train['day1']-train['day']"
      ],
      "execution_count": 0,
      "outputs": []
    },
    {
      "cell_type": "code",
      "metadata": {
        "id": "kkdydWfctwxM",
        "colab_type": "code",
        "colab": {}
      },
      "source": [
        "test['DATOP']=pd.to_datetime(test['DATOP'])\n",
        "test['day1'] = test['STA'].dt.day\n",
        "test['day'] = test['DATOP'].dt.day\n",
        "test['day2']=test['day1']-test['day']"
      ],
      "execution_count": 0,
      "outputs": []
    },
    {
      "cell_type": "code",
      "metadata": {
        "id": "ePNq-OWlulv-",
        "colab_type": "code",
        "outputId": "d58edd4c-2eed-4ca0-9fef-5b1f87338318",
        "colab": {
          "base_uri": "https://localhost:8080/",
          "height": 868
        }
      },
      "source": [
        "train['day2'].value_counts()"
      ],
      "execution_count": 0,
      "outputs": [
        {
          "output_type": "execute_result",
          "data": {
            "text/plain": [
              " 0     101499\n",
              " 1       5862\n",
              "-30       134\n",
              " 2        111\n",
              "-29        59\n",
              " 3         36\n",
              " 4         17\n",
              "-27        15\n",
              " 6         13\n",
              " 5         11\n",
              "-28        10\n",
              " 7          8\n",
              " 11         4\n",
              "-25         4\n",
              "-19         3\n",
              "-26         3\n",
              " 23         2\n",
              "-10         2\n",
              "-4          2\n",
              "-7          2\n",
              " 8          2\n",
              " 9          2\n",
              " 10         2\n",
              " 17         2\n",
              " 20         2\n",
              "-1          2\n",
              "-2          2\n",
              "-20         2\n",
              "-11         1\n",
              "-22         1\n",
              "-3          1\n",
              "-17         1\n",
              "-5          1\n",
              "-6          1\n",
              "-18         1\n",
              "-9          1\n",
              "-21         1\n",
              "-23         1\n",
              " 25         1\n",
              "-24         1\n",
              " 15         1\n",
              " 16         1\n",
              "-12         1\n",
              " 19         1\n",
              " 22         1\n",
              "-16         1\n",
              " 24         1\n",
              "-13         1\n",
              "Name: day2, dtype: int64"
            ]
          },
          "metadata": {
            "tags": []
          },
          "execution_count": 15
        }
      ]
    },
    {
      "cell_type": "code",
      "metadata": {
        "id": "E8Fp6jHwu6Lj",
        "colab_type": "code",
        "colab": {}
      },
      "source": [
        "train=train[train['day2']>-17]\n",
        "train=train[train['day2']< 17]"
      ],
      "execution_count": 0,
      "outputs": []
    },
    {
      "cell_type": "code",
      "metadata": {
        "id": "D0hJdXK1vhCu",
        "colab_type": "code",
        "colab": {}
      },
      "source": [
        "del train['day'],train['day1']\n",
        "del test['day'],test['day1']"
      ],
      "execution_count": 0,
      "outputs": []
    },
    {
      "cell_type": "code",
      "metadata": {
        "id": "BD42lrsi7q_c",
        "colab_type": "code",
        "colab": {}
      },
      "source": [
        "\n",
        "for trans in [train,test]:\n",
        "    trans['DATOP']=pd.to_datetime(trans['DATOP'])\n",
        "    trans['year'] = trans['DATOP'].dt.year\n",
        "    trans['weekofyear'] = trans['DATOP'].dt.weekofyear\n",
        "    trans['month'] = trans['DATOP'].dt.month\n",
        "    trans['dayofweek'] = trans['DATOP'].dt.dayofweek\n",
        "    trans['weekend'] = (trans.DATOP.dt.weekday >=5).astype(int)\n"
      ],
      "execution_count": 0,
      "outputs": []
    },
    {
      "cell_type": "code",
      "metadata": {
        "id": "H8gyr4WnuwVh",
        "colab_type": "code",
        "outputId": "53a15d3e-2615-4158-cf64-2813649b9252",
        "colab": {
          "base_uri": "https://localhost:8080/",
          "height": 1000
        }
      },
      "source": [
        "train['DEPSTN'].value_counts()\n"
      ],
      "execution_count": 0,
      "outputs": [
        {
          "output_type": "execute_result",
          "data": {
            "text/plain": [
              "TUN    42393\n",
              "DJE    10239\n",
              "ORY     6755\n",
              "MIR     5232\n",
              "MRS     2843\n",
              "LYS     2354\n",
              "NCE     2225\n",
              "ALG     1573\n",
              "MXP     1534\n",
              "IST     1439\n",
              "FRA     1378\n",
              "BRU     1373\n",
              "CMN     1349\n",
              "FCO     1266\n",
              "TOE     1199\n",
              "CDG     1151\n",
              "JED     1133\n",
              "GVA     1113\n",
              "NBE      918\n",
              "SFA      917\n",
              "TLS      850\n",
              "DUS      831\n",
              "ABJ      797\n",
              "PRG      797\n",
              "MED      782\n",
              "MUC      748\n",
              "BCN      723\n",
              "LHR      583\n",
              "MAD      579\n",
              "SXB      569\n",
              "       ...  \n",
              "LAD        2\n",
              "FBM        2\n",
              "KEF        1\n",
              "ADB        1\n",
              "KTW        1\n",
              "SKX        1\n",
              "TPS        1\n",
              "LFW        1\n",
              "FIH        1\n",
              "BDS        1\n",
              "GHA        1\n",
              "CTA        1\n",
              "KBP        1\n",
              "ESB        1\n",
              "MVB        1\n",
              "TMR        1\n",
              "KRR        1\n",
              "KRT        1\n",
              "DOH        1\n",
              "LBV        1\n",
              "TLL        1\n",
              "GNB        1\n",
              "OTP        1\n",
              "AAE        1\n",
              "AAL        1\n",
              "STR        1\n",
              "BRI        1\n",
              "SKG        1\n",
              "JIB        1\n",
              "RAK        1\n",
              "Name: DEPSTN, Length: 132, dtype: int64"
            ]
          },
          "metadata": {
            "tags": []
          },
          "execution_count": 19
        }
      ]
    },
    {
      "cell_type": "code",
      "metadata": {
        "id": "Jc5b6hNQ-awa",
        "colab_type": "code",
        "colab": {}
      },
      "source": [
        "encoding= train.groupby('DEPSTN').size()\n",
        "encoding1= test.groupby('DEPSTN').size()\n",
        "\n",
        "encoding= encoding/len(train)\n",
        "encoding1= encoding1/len(test)\n",
        "\n",
        "train['DEPSTN']= train.DEPSTN.map(encoding)\n",
        "test['DEPSTN']= test.DEPSTN.map(encoding1)\n"
      ],
      "execution_count": 0,
      "outputs": []
    },
    {
      "cell_type": "code",
      "metadata": {
        "id": "dlaVPl8-290b",
        "colab_type": "code",
        "colab": {}
      },
      "source": [
        "encoding= train.groupby('FLTID').size()\n",
        "encoding1= test.groupby('FLTID').size()\n",
        "\n",
        "encoding= encoding/len(train)\n",
        "encoding1= encoding1/len(test)\n",
        "\n",
        "train['FLTID']= train.FLTID.map(encoding)\n",
        "test['FLTID']= test.FLTID.map(encoding1)"
      ],
      "execution_count": 0,
      "outputs": []
    },
    {
      "cell_type": "code",
      "metadata": {
        "id": "_3olWYax-ejE",
        "colab_type": "code",
        "colab": {}
      },
      "source": [
        "encoding= train.groupby('ARRSTN').size()\n",
        "encoding1= test.groupby('ARRSTN').size()\n",
        "\n",
        "encoding= encoding/len(train)\n",
        "encoding1= encoding1/len(test)\n",
        "\n",
        "train['ARRSTN']= train.ARRSTN.map(encoding)\n",
        "test['ARRSTN']= test.ARRSTN.map(encoding1)"
      ],
      "execution_count": 0,
      "outputs": []
    },
    {
      "cell_type": "markdown",
      "metadata": {
        "id": "9mpfj4YeuzSY",
        "colab_type": "text"
      },
      "source": [
        "![alt text](https://d2h0cx97tjks2p.cloudfront.net/blogs/wp-content/uploads/sites/2/2018/02/Regular-Expressions-in-Python-01.jpg)"
      ]
    },
    {
      "cell_type": "code",
      "metadata": {
        "id": "q-k2OZGXit54",
        "colab_type": "code",
        "colab": {}
      },
      "source": [
        "import re\n",
        "train_test_data = [train, test] # combining train and test dataset\n",
        "\n",
        "for dataset in train_test_data:\n",
        "  dataset['Title2'] = dataset['AC'].astype(str)\n",
        "  dataset['Title2'] = dataset['AC'].str.extract('(\\d+)', expand=False).str.strip()\n"
      ],
      "execution_count": 0,
      "outputs": []
    },
    {
      "cell_type": "code",
      "metadata": {
        "id": "u6R1Ja8TRe4W",
        "colab_type": "code",
        "colab": {}
      },
      "source": [
        " # combining train and test dataset\n",
        "for dataset in train_test_data:\n",
        "  dataset['Title1'] = dataset['AC'].astype(str)\n",
        "  dataset['Title1'] = dataset['AC'].str.extract('([a-zA-Z ]+)', expand=False).str.strip()"
      ],
      "execution_count": 0,
      "outputs": []
    },
    {
      "cell_type": "code",
      "metadata": {
        "id": "DC6hsUo-O4ja",
        "colab_type": "code",
        "colab": {}
      },
      "source": [
        "train.drop('ID',axis=1,inplace=True)\n",
        "test.drop('ID',axis=1,inplace=True)"
      ],
      "execution_count": 0,
      "outputs": []
    },
    {
      "cell_type": "code",
      "metadata": {
        "id": "qbmNT55kSjEb",
        "colab_type": "code",
        "colab": {}
      },
      "source": [
        "train.drop('AC',axis=1,inplace=True)\n",
        "test.drop('AC',axis=1,inplace=True)"
      ],
      "execution_count": 0,
      "outputs": []
    },
    {
      "cell_type": "code",
      "metadata": {
        "id": "nphrIBUmThWd",
        "colab_type": "code",
        "colab": {}
      },
      "source": [
        "train.drop('DATOP',axis=1,inplace=True)\n",
        "test.drop('DATOP',axis=1,inplace=True)"
      ],
      "execution_count": 0,
      "outputs": []
    },
    {
      "cell_type": "code",
      "metadata": {
        "id": "xBkaZJkDViJs",
        "colab_type": "code",
        "colab": {}
      },
      "source": [
        "train.drop('STD',axis=1,inplace=True)\n",
        "test.drop('STD',axis=1,inplace=True)\n",
        "train.drop('STA',axis=1,inplace=True)\n",
        "test.drop('STA',axis=1,inplace=True)"
      ],
      "execution_count": 0,
      "outputs": []
    },
    {
      "cell_type": "code",
      "metadata": {
        "id": "WNj_f7tE3bOr",
        "colab_type": "code",
        "colab": {}
      },
      "source": [
        "sex_mapping = {2016: 0, 2017: 1,2018:2}\n",
        "for dataset in train_test_data:\n",
        "    dataset['year'] = dataset['year'].map(sex_mapping)"
      ],
      "execution_count": 0,
      "outputs": []
    },
    {
      "cell_type": "code",
      "metadata": {
        "id": "Rkaayf2hTsYV",
        "colab_type": "code",
        "outputId": "7cbd352b-0057-4ac9-ed29-7bbf0db984e6",
        "colab": {
          "base_uri": "https://localhost:8080/",
          "height": 226
        }
      },
      "source": [
        "test.head()"
      ],
      "execution_count": 0,
      "outputs": [
        {
          "output_type": "execute_result",
          "data": {
            "text/html": [
              "<div>\n",
              "<style scoped>\n",
              "    .dataframe tbody tr th:only-of-type {\n",
              "        vertical-align: middle;\n",
              "    }\n",
              "\n",
              "    .dataframe tbody tr th {\n",
              "        vertical-align: top;\n",
              "    }\n",
              "\n",
              "    .dataframe thead th {\n",
              "        text-align: right;\n",
              "    }\n",
              "</style>\n",
              "<table border=\"1\" class=\"dataframe\">\n",
              "  <thead>\n",
              "    <tr style=\"text-align: right;\">\n",
              "      <th></th>\n",
              "      <th>FLTID</th>\n",
              "      <th>DEPSTN</th>\n",
              "      <th>ARRSTN</th>\n",
              "      <th>STATUS</th>\n",
              "      <th>diff_minutes</th>\n",
              "      <th>day2</th>\n",
              "      <th>year</th>\n",
              "      <th>weekofyear</th>\n",
              "      <th>month</th>\n",
              "      <th>dayofweek</th>\n",
              "      <th>weekend</th>\n",
              "      <th>Title2</th>\n",
              "      <th>Title1</th>\n",
              "    </tr>\n",
              "  </thead>\n",
              "  <tbody>\n",
              "    <tr>\n",
              "      <th>0</th>\n",
              "      <td>0.008465</td>\n",
              "      <td>0.099218</td>\n",
              "      <td>0.391085</td>\n",
              "      <td>ATA</td>\n",
              "      <td>50.0</td>\n",
              "      <td>0</td>\n",
              "      <td>0</td>\n",
              "      <td>18</td>\n",
              "      <td>5</td>\n",
              "      <td>2</td>\n",
              "      <td>0</td>\n",
              "      <td>32</td>\n",
              "      <td>TU</td>\n",
              "    </tr>\n",
              "    <tr>\n",
              "      <th>1</th>\n",
              "      <td>0.000964</td>\n",
              "      <td>0.387978</td>\n",
              "      <td>0.004607</td>\n",
              "      <td>ATA</td>\n",
              "      <td>285.0</td>\n",
              "      <td>0</td>\n",
              "      <td>0</td>\n",
              "      <td>18</td>\n",
              "      <td>5</td>\n",
              "      <td>3</td>\n",
              "      <td>0</td>\n",
              "      <td>320</td>\n",
              "      <td>TU</td>\n",
              "    </tr>\n",
              "    <tr>\n",
              "      <th>2</th>\n",
              "      <td>0.008143</td>\n",
              "      <td>0.012750</td>\n",
              "      <td>0.391085</td>\n",
              "      <td>ATA</td>\n",
              "      <td>145.0</td>\n",
              "      <td>0</td>\n",
              "      <td>0</td>\n",
              "      <td>18</td>\n",
              "      <td>5</td>\n",
              "      <td>4</td>\n",
              "      <td>0</td>\n",
              "      <td>32</td>\n",
              "      <td>TU</td>\n",
              "    </tr>\n",
              "    <tr>\n",
              "      <th>3</th>\n",
              "      <td>0.003750</td>\n",
              "      <td>0.003750</td>\n",
              "      <td>0.391085</td>\n",
              "      <td>ATA</td>\n",
              "      <td>210.0</td>\n",
              "      <td>0</td>\n",
              "      <td>0</td>\n",
              "      <td>19</td>\n",
              "      <td>5</td>\n",
              "      <td>2</td>\n",
              "      <td>0</td>\n",
              "      <td>31</td>\n",
              "      <td>TU</td>\n",
              "    </tr>\n",
              "    <tr>\n",
              "      <th>4</th>\n",
              "      <td>0.010500</td>\n",
              "      <td>0.061502</td>\n",
              "      <td>0.055502</td>\n",
              "      <td>ATA</td>\n",
              "      <td>165.0</td>\n",
              "      <td>0</td>\n",
              "      <td>0</td>\n",
              "      <td>19</td>\n",
              "      <td>5</td>\n",
              "      <td>2</td>\n",
              "      <td>0</td>\n",
              "      <td>736</td>\n",
              "      <td>TU</td>\n",
              "    </tr>\n",
              "  </tbody>\n",
              "</table>\n",
              "</div>"
            ],
            "text/plain": [
              "      FLTID    DEPSTN    ARRSTN STATUS  ...  dayofweek  weekend  Title2  Title1\n",
              "0  0.008465  0.099218  0.391085    ATA  ...          2        0      32      TU\n",
              "1  0.000964  0.387978  0.004607    ATA  ...          3        0     320      TU\n",
              "2  0.008143  0.012750  0.391085    ATA  ...          4        0      32      TU\n",
              "3  0.003750  0.003750  0.391085    ATA  ...          2        0      31      TU\n",
              "4  0.010500  0.061502  0.055502    ATA  ...          2        0     736      TU\n",
              "\n",
              "[5 rows x 13 columns]"
            ]
          },
          "metadata": {
            "tags": []
          },
          "execution_count": 30
        }
      ]
    },
    {
      "cell_type": "code",
      "metadata": {
        "id": "0xNddQ4KNhQV",
        "colab_type": "code",
        "outputId": "b0f1703f-4d25-46d5-9ded-abc526f414cc",
        "colab": {
          "base_uri": "https://localhost:8080/",
          "height": 226
        }
      },
      "source": [
        "train.head()"
      ],
      "execution_count": 0,
      "outputs": [
        {
          "output_type": "execute_result",
          "data": {
            "text/html": [
              "<div>\n",
              "<style scoped>\n",
              "    .dataframe tbody tr th:only-of-type {\n",
              "        vertical-align: middle;\n",
              "    }\n",
              "\n",
              "    .dataframe tbody tr th {\n",
              "        vertical-align: top;\n",
              "    }\n",
              "\n",
              "    .dataframe thead th {\n",
              "        text-align: right;\n",
              "    }\n",
              "</style>\n",
              "<table border=\"1\" class=\"dataframe\">\n",
              "  <thead>\n",
              "    <tr style=\"text-align: right;\">\n",
              "      <th></th>\n",
              "      <th>FLTID</th>\n",
              "      <th>DEPSTN</th>\n",
              "      <th>ARRSTN</th>\n",
              "      <th>STATUS</th>\n",
              "      <th>target</th>\n",
              "      <th>diff_minutes</th>\n",
              "      <th>day2</th>\n",
              "      <th>year</th>\n",
              "      <th>weekofyear</th>\n",
              "      <th>month</th>\n",
              "      <th>dayofweek</th>\n",
              "      <th>weekend</th>\n",
              "      <th>Title2</th>\n",
              "      <th>Title1</th>\n",
              "    </tr>\n",
              "  </thead>\n",
              "  <tbody>\n",
              "    <tr>\n",
              "      <th>0</th>\n",
              "      <td>0.009295</td>\n",
              "      <td>0.012539</td>\n",
              "      <td>0.394220</td>\n",
              "      <td>ATA</td>\n",
              "      <td>260.0</td>\n",
              "      <td>145.0</td>\n",
              "      <td>0</td>\n",
              "      <td>0</td>\n",
              "      <td>53</td>\n",
              "      <td>1</td>\n",
              "      <td>6</td>\n",
              "      <td>1</td>\n",
              "      <td>32</td>\n",
              "      <td>TU</td>\n",
              "    </tr>\n",
              "    <tr>\n",
              "      <th>1</th>\n",
              "      <td>0.008969</td>\n",
              "      <td>0.014258</td>\n",
              "      <td>0.394220</td>\n",
              "      <td>ATA</td>\n",
              "      <td>20.0</td>\n",
              "      <td>110.0</td>\n",
              "      <td>0</td>\n",
              "      <td>0</td>\n",
              "      <td>2</td>\n",
              "      <td>1</td>\n",
              "      <td>2</td>\n",
              "      <td>0</td>\n",
              "      <td>31</td>\n",
              "      <td>TU</td>\n",
              "    </tr>\n",
              "    <tr>\n",
              "      <th>2</th>\n",
              "      <td>0.004248</td>\n",
              "      <td>0.394035</td>\n",
              "      <td>0.013403</td>\n",
              "      <td>ATA</td>\n",
              "      <td>0.0</td>\n",
              "      <td>155.0</td>\n",
              "      <td>0</td>\n",
              "      <td>0</td>\n",
              "      <td>2</td>\n",
              "      <td>1</td>\n",
              "      <td>5</td>\n",
              "      <td>1</td>\n",
              "      <td>32</td>\n",
              "      <td>TU</td>\n",
              "    </tr>\n",
              "    <tr>\n",
              "      <th>3</th>\n",
              "      <td>0.001599</td>\n",
              "      <td>0.095169</td>\n",
              "      <td>0.005019</td>\n",
              "      <td>ATA</td>\n",
              "      <td>0.0</td>\n",
              "      <td>170.0</td>\n",
              "      <td>0</td>\n",
              "      <td>0</td>\n",
              "      <td>2</td>\n",
              "      <td>1</td>\n",
              "      <td>6</td>\n",
              "      <td>1</td>\n",
              "      <td>736</td>\n",
              "      <td>TU</td>\n",
              "    </tr>\n",
              "    <tr>\n",
              "      <th>4</th>\n",
              "      <td>0.005242</td>\n",
              "      <td>0.394035</td>\n",
              "      <td>0.014621</td>\n",
              "      <td>ATA</td>\n",
              "      <td>22.0</td>\n",
              "      <td>80.0</td>\n",
              "      <td>0</td>\n",
              "      <td>0</td>\n",
              "      <td>2</td>\n",
              "      <td>1</td>\n",
              "      <td>6</td>\n",
              "      <td>1</td>\n",
              "      <td>320</td>\n",
              "      <td>TU</td>\n",
              "    </tr>\n",
              "  </tbody>\n",
              "</table>\n",
              "</div>"
            ],
            "text/plain": [
              "      FLTID    DEPSTN    ARRSTN STATUS  ...  dayofweek  weekend  Title2  Title1\n",
              "0  0.009295  0.012539  0.394220    ATA  ...          6        1      32      TU\n",
              "1  0.008969  0.014258  0.394220    ATA  ...          2        0      31      TU\n",
              "2  0.004248  0.394035  0.013403    ATA  ...          5        1      32      TU\n",
              "3  0.001599  0.095169  0.005019    ATA  ...          6        1     736      TU\n",
              "4  0.005242  0.394035  0.014621    ATA  ...          6        1     320      TU\n",
              "\n",
              "[5 rows x 14 columns]"
            ]
          },
          "metadata": {
            "tags": []
          },
          "execution_count": 31
        }
      ]
    },
    {
      "cell_type": "markdown",
      "metadata": {
        "id": "a1GyuivxuTFx",
        "colab_type": "text"
      },
      "source": [
        "![alt text](https://miro.medium.com/max/2736/0*T5jaa2othYfXZX9W.)"
      ]
    },
    {
      "cell_type": "code",
      "metadata": {
        "id": "OAoM_vhsP37N",
        "colab_type": "code",
        "colab": {}
      },
      "source": [
        "train=pd.get_dummies(train,columns=['STATUS'])\n",
        "test=pd.get_dummies(test,columns=['STATUS'])"
      ],
      "execution_count": 0,
      "outputs": []
    },
    {
      "cell_type": "code",
      "metadata": {
        "id": "vTNd7DWgQ_wP",
        "colab_type": "code",
        "outputId": "0a753a4a-8afe-4a9e-ac7b-2417054b10b7",
        "colab": {
          "base_uri": "https://localhost:8080/",
          "height": 34
        }
      },
      "source": [
        "train.shape,test.shape"
      ],
      "execution_count": 0,
      "outputs": [
        {
          "output_type": "execute_result",
          "data": {
            "text/plain": [
              "((107587, 18), (9333, 17))"
            ]
          },
          "metadata": {
            "tags": []
          },
          "execution_count": 33
        }
      ]
    },
    {
      "cell_type": "code",
      "metadata": {
        "id": "brYeyu0MOfbD",
        "colab_type": "code",
        "colab": {}
      },
      "source": [
        "encoding= train.groupby('Title1').size()\n",
        "encoding1= test.groupby('Title1').size()\n",
        "\n",
        "encoding= encoding/len(train)\n",
        "encoding1= encoding1/len(test)\n",
        "\n",
        "train['Title1']= train.Title1.map(encoding)\n",
        "test['Title1']= test.Title1.map(encoding1)"
      ],
      "execution_count": 0,
      "outputs": []
    },
    {
      "cell_type": "code",
      "metadata": {
        "id": "yFzOVtHnOoO5",
        "colab_type": "code",
        "colab": {}
      },
      "source": [
        "encoding= train.groupby('Title2').size()\n",
        "encoding1= test.groupby('Title2').size()\n",
        "\n",
        "encoding= encoding/len(train)\n",
        "encoding1= encoding1/len(test)\n",
        "\n",
        "train['Title2']= train.Title2.map(encoding)\n",
        "test['Title2']= test.Title2.map(encoding1)"
      ],
      "execution_count": 0,
      "outputs": []
    },
    {
      "cell_type": "code",
      "metadata": {
        "id": "I29Yh_M_NVFW",
        "colab_type": "code",
        "colab": {}
      },
      "source": [
        "del train['weekofyear']\n",
        "del test['weekofyear']"
      ],
      "execution_count": 0,
      "outputs": []
    },
    {
      "cell_type": "markdown",
      "metadata": {
        "id": "m9LXBD_uM9Kp",
        "colab_type": "text"
      },
      "source": [
        "## **Detect Outlier** **"
      ]
    },
    {
      "cell_type": "markdown",
      "metadata": {
        "id": "NCloN2B-n5h6",
        "colab_type": "text"
      },
      "source": [
        "A Z-score is a numerical measurement used in statistics of a value's relationship to the mean (average) of a group of values, measured in terms of standard deviations from the mean. \n",
        "![alt text](https://i.ytimg.com/vi/-IGW7WH6CIA/maxresdefault.jpg)"
      ]
    },
    {
      "cell_type": "code",
      "metadata": {
        "id": "gFe52h5NLzKL",
        "colab_type": "code",
        "outputId": "325bde20-e4d3-4e7c-bcfe-e80056cc332e",
        "colab": {
          "base_uri": "https://localhost:8080/",
          "height": 34
        }
      },
      "source": [
        "train['diff_minutes'].max()"
      ],
      "execution_count": 0,
      "outputs": [
        {
          "output_type": "execute_result",
          "data": {
            "text/plain": [
              "719520.0"
            ]
          },
          "metadata": {
            "tags": []
          },
          "execution_count": 37
        }
      ]
    },
    {
      "cell_type": "code",
      "metadata": {
        "id": "5A7khtqCoYR7",
        "colab_type": "code",
        "outputId": "28b7fda4-9d79-41bd-f8dc-26b388e2b67c",
        "colab": {
          "base_uri": "https://localhost:8080/",
          "height": 34
        }
      },
      "source": [
        "train['diff_minutes'].mean()"
      ],
      "execution_count": 0,
      "outputs": [
        {
          "output_type": "execute_result",
          "data": {
            "text/plain": [
              "204.76016619108256"
            ]
          },
          "metadata": {
            "tags": []
          },
          "execution_count": 38
        }
      ]
    },
    {
      "cell_type": "code",
      "metadata": {
        "id": "BQgy8jBnL4gi",
        "colab_type": "code",
        "colab": {}
      },
      "source": [
        "train['col_zscore'] = (train[\"diff_minutes\"] - train[\"diff_minutes\"].mean())/train[\"diff_minutes\"].std(ddof=0)"
      ],
      "execution_count": 0,
      "outputs": []
    },
    {
      "cell_type": "code",
      "metadata": {
        "id": "WReGvJgcMh2V",
        "colab_type": "code",
        "colab": {}
      },
      "source": [
        "train['outlier'] = (abs(train['col_zscore'])> 3).astype(int)"
      ],
      "execution_count": 0,
      "outputs": []
    },
    {
      "cell_type": "code",
      "metadata": {
        "id": "_RPmILuIMyMf",
        "colab_type": "code",
        "outputId": "8b8c1668-3560-48d0-bf7b-c616db385b40",
        "colab": {
          "base_uri": "https://localhost:8080/",
          "height": 34
        }
      },
      "source": [
        "print (\"Print number of outliers = \" +str(train.outlier.value_counts()[1]))"
      ],
      "execution_count": 0,
      "outputs": [
        {
          "output_type": "stream",
          "text": [
            "Print number of outliers = 37\n"
          ],
          "name": "stdout"
        }
      ]
    },
    {
      "cell_type": "code",
      "metadata": {
        "id": "Ptb8KUDQNMQa",
        "colab_type": "code",
        "colab": {}
      },
      "source": [
        "train=train[train.outlier != 1]"
      ],
      "execution_count": 0,
      "outputs": []
    },
    {
      "cell_type": "code",
      "metadata": {
        "id": "W9s_BSIuDcGG",
        "colab_type": "code",
        "outputId": "c7cbc2dc-8268-40b8-faef-496610f343b0",
        "colab": {
          "base_uri": "https://localhost:8080/",
          "height": 34
        }
      },
      "source": [
        "train.shape,test.shape"
      ],
      "execution_count": 0,
      "outputs": [
        {
          "output_type": "execute_result",
          "data": {
            "text/plain": [
              "((107550, 19), (9333, 16))"
            ]
          },
          "metadata": {
            "tags": []
          },
          "execution_count": 43
        }
      ]
    },
    {
      "cell_type": "code",
      "metadata": {
        "id": "3lKxFyI6THAF",
        "colab_type": "code",
        "colab": {}
      },
      "source": [
        "del train['outlier']\n",
        "del train['col_zscore']\n"
      ],
      "execution_count": 0,
      "outputs": []
    },
    {
      "cell_type": "code",
      "metadata": {
        "id": "r-WvjK17wLI7",
        "colab_type": "code",
        "colab": {}
      },
      "source": [
        "target=train['target']\n",
        "train.drop('target',axis=1,inplace=True)"
      ],
      "execution_count": 0,
      "outputs": []
    },
    {
      "cell_type": "code",
      "metadata": {
        "id": "EOrFqs_Xzziw",
        "colab_type": "code",
        "colab": {}
      },
      "source": [
        "train['day2'] = train['day2'].astype(object)\n",
        "test['day2'] = test['day2'].astype(object)"
      ],
      "execution_count": 0,
      "outputs": []
    },
    {
      "cell_type": "code",
      "metadata": {
        "id": "K7HokeWNNiyj",
        "colab_type": "code",
        "colab": {}
      },
      "source": [
        "# Label Encoding\n",
        "from sklearn import preprocessing\n",
        "for f in train.columns:\n",
        "    if train[f].dtype=='object' or test[f].dtype=='object': \n",
        "        lbl = preprocessing.LabelEncoder()\n",
        "        lbl.fit(list(train[f].values) + list(test[f].values))\n",
        "        train[f] = lbl.transform(list(train[f].values))\n",
        "        test[f] = lbl.transform(list(test[f].values))   "
      ],
      "execution_count": 0,
      "outputs": []
    },
    {
      "cell_type": "markdown",
      "metadata": {
        "id": "HmxkJVIYxksE",
        "colab_type": "text"
      },
      "source": [
        "## Normalization"
      ]
    },
    {
      "cell_type": "markdown",
      "metadata": {
        "id": "Ji0wJak1x_wZ",
        "colab_type": "text"
      },
      "source": [
        "![alt text](https://chrisalbon.com/images/machine_learning_flashcards/MinMax_Scaling_print.png)"
      ]
    },
    {
      "cell_type": "code",
      "metadata": {
        "id": "v5gAmfbnxo3a",
        "colab_type": "code",
        "colab": {}
      },
      "source": [
        "from sklearn.preprocessing import StandardScaler,MinMaxScaler,RobustScaler\n",
        "sc = StandardScaler()\n",
        "train = sc.fit_transform(train)\n",
        "test = sc.transform(test)"
      ],
      "execution_count": 0,
      "outputs": []
    },
    {
      "cell_type": "markdown",
      "metadata": {
        "id": "IqjLS9I2VgOi",
        "colab_type": "text"
      },
      "source": [
        "\n",
        "\n",
        "## `Define a cross validation strategy`\n"
      ]
    },
    {
      "cell_type": "markdown",
      "metadata": {
        "id": "WUmthm1IWlSq",
        "colab_type": "text"
      },
      "source": [
        "![alt text](https://upload.wikimedia.org/wikipedia/commons/thumb/b/b5/K-fold_cross_validation_EN.svg/1200px-K-fold_cross_validation_EN.svg.png)"
      ]
    },
    {
      "cell_type": "markdown",
      "metadata": {
        "id": "MPRl1LIK7LLH",
        "colab_type": "text"
      },
      "source": [
        "**To solve the two issue we use an approach called cross-validation**\n",
        "Cross-validation is a statistical technique which involves partitioning the data into subsets, training the data on a subset and use the other subset to evaluate the model’s performance.\n",
        "\n",
        "\n",
        "1.   Train_Test Split approach.\n",
        "2.   K-Folds Cross Validation\n",
        "3.   Stratified k-fold cross validation\n",
        "4.   Cross validation for time series\n",
        "\n",
        "\n",
        "\n"
      ]
    },
    {
      "cell_type": "code",
      "metadata": {
        "id": "9yhsSrsE8ROP",
        "colab_type": "code",
        "colab": {}
      },
      "source": [
        "def rmsle(y, y_pred):\n",
        "    return np.sqrt(mean_squared_error(y, y_pred))"
      ],
      "execution_count": 0,
      "outputs": []
    },
    {
      "cell_type": "code",
      "metadata": {
        "id": "nh33IaYa6cAJ",
        "colab_type": "code",
        "outputId": "0d5c3a85-ecb0-4a4e-95a8-5053efd0d16d",
        "colab": {
          "base_uri": "https://localhost:8080/",
          "height": 34
        }
      },
      "source": [
        "from sklearn.model_selection import train_test_split\n",
        "X_train, X_test, y_train, y_test = train_test_split(train,target,shuffle=True,test_size = 0.2, random_state = 0)\n",
        "X_train.shape, X_test.shape, y_train.shape, y_test.shape"
      ],
      "execution_count": 0,
      "outputs": [
        {
          "output_type": "execute_result",
          "data": {
            "text/plain": [
              "((86040, 16), (21510, 16), (86040,), (21510,))"
            ]
          },
          "metadata": {
            "tags": []
          },
          "execution_count": 50
        }
      ]
    },
    {
      "cell_type": "code",
      "metadata": {
        "id": "_70PMfJMAIY9",
        "colab_type": "code",
        "outputId": "be13694d-e53f-4e1c-9375-886e1e1afb84",
        "colab": {
          "base_uri": "https://localhost:8080/",
          "height": 34
        }
      },
      "source": [
        "from sklearn.tree import DecisionTreeRegressor\n",
        "dtm = DecisionTreeRegressor(max_depth=4,\n",
        "                           min_samples_split=5,\n",
        "                           max_leaf_nodes=10)\n",
        "dtm.fit(X_train,y_train)\n",
        "pred=dtm.predict(X_test)\n",
        "rmsle(y_test,pred)\n"
      ],
      "execution_count": 0,
      "outputs": [
        {
          "output_type": "execute_result",
          "data": {
            "text/plain": [
              "120.58845644808221"
            ]
          },
          "metadata": {
            "tags": []
          },
          "execution_count": 51
        }
      ]
    },
    {
      "cell_type": "markdown",
      "metadata": {
        "id": "JJu9cXjtBmmO",
        "colab_type": "text"
      },
      "source": [
        "**Hyperparameter tuning with GridSearchCV**"
      ]
    },
    {
      "cell_type": "code",
      "metadata": {
        "id": "J59rqt1OBGtg",
        "colab_type": "code",
        "outputId": "e4e46452-617a-4e65-d32e-1958d8fe8476",
        "colab": {
          "base_uri": "https://localhost:8080/",
          "height": 330
        }
      },
      "source": [
        "from sklearn.model_selection import GridSearchCV\n",
        "param_grid = {\"criterion\": [\"mse\"],\n",
        "              \"min_samples_split\": [10, 20, 40],\n",
        "              \"max_depth\": [2, 6, 8],\n",
        "              \"min_samples_leaf\": [20, 40, 100],\n",
        "              \"max_leaf_nodes\": [5, 20, 100],\n",
        "              }\n",
        "\n",
        "## Comment in order to publish in kaggle.\n",
        "\n",
        "grid_cv_dtm = GridSearchCV(dtm, param_grid, cv=5)\n",
        "\n",
        "grid_cv_dtm.fit(X_train,y_train)"
      ],
      "execution_count": 0,
      "outputs": [
        {
          "output_type": "execute_result",
          "data": {
            "text/plain": [
              "GridSearchCV(cv=5, error_score='raise-deprecating',\n",
              "             estimator=DecisionTreeRegressor(criterion='mse', max_depth=4,\n",
              "                                             max_features=None,\n",
              "                                             max_leaf_nodes=10,\n",
              "                                             min_impurity_decrease=0.0,\n",
              "                                             min_impurity_split=None,\n",
              "                                             min_samples_leaf=1,\n",
              "                                             min_samples_split=5,\n",
              "                                             min_weight_fraction_leaf=0.0,\n",
              "                                             presort=False, random_state=None,\n",
              "                                             splitter='best'),\n",
              "             iid='warn', n_jobs=None,\n",
              "             param_grid={'criterion': ['mse'], 'max_depth': [2, 6, 8],\n",
              "                         'max_leaf_nodes': [5, 20, 100],\n",
              "                         'min_samples_leaf': [20, 40, 100],\n",
              "                         'min_samples_split': [10, 20, 40]},\n",
              "             pre_dispatch='2*n_jobs', refit=True, return_train_score=False,\n",
              "             scoring=None, verbose=0)"
            ]
          },
          "metadata": {
            "tags": []
          },
          "execution_count": 56
        }
      ]
    },
    {
      "cell_type": "code",
      "metadata": {
        "id": "66c97UomI4A4",
        "colab_type": "code",
        "outputId": "1bf13ce4-2f7b-491e-8ca6-170abdf9dbc4",
        "colab": {
          "base_uri": "https://localhost:8080/",
          "height": 72
        }
      },
      "source": [
        "print(\"Best Hyperparameters::\\n{}\".format(grid_cv_dtm.best_params_))"
      ],
      "execution_count": 0,
      "outputs": [
        {
          "output_type": "stream",
          "text": [
            "Best Hyperparameters::\n",
            "{'criterion': 'mse', 'max_depth': 8, 'max_leaf_nodes': 100, 'min_samples_leaf': 100, 'min_samples_split': 10}\n"
          ],
          "name": "stdout"
        }
      ]
    },
    {
      "cell_type": "code",
      "metadata": {
        "id": "o6kGlo3NI6q-",
        "colab_type": "code",
        "outputId": "5cf3203b-ee9d-48ef-92e8-ad3a12734854",
        "colab": {
          "base_uri": "https://localhost:8080/",
          "height": 34
        }
      },
      "source": [
        "best_dtm_model = grid_cv_dtm.best_estimator_\n",
        "pred=best_dtm_model.predict(X_test)\n",
        "rmsle(y_test,pred)"
      ],
      "execution_count": 0,
      "outputs": [
        {
          "output_type": "execute_result",
          "data": {
            "text/plain": [
              "119.14719656353965"
            ]
          },
          "metadata": {
            "tags": []
          },
          "execution_count": 58
        }
      ]
    },
    {
      "cell_type": "markdown",
      "metadata": {
        "id": "0pmhqH0cCKoX",
        "colab_type": "text"
      },
      "source": [
        "![alt text](https://miro.medium.com/max/592/1*i0o8mjFfCn-uD79-F1Cqkw.png)"
      ]
    },
    {
      "cell_type": "code",
      "metadata": {
        "id": "FH36K-3r-mT2",
        "colab_type": "code",
        "outputId": "1569ceb8-b8fe-4096-d80f-102cccea3243",
        "colab": {
          "base_uri": "https://localhost:8080/",
          "height": 34
        }
      },
      "source": [
        "from sklearn.ensemble import RandomForestRegressor\n",
        "\n",
        "clf = RandomForestRegressor(bootstrap=True, criterion='mse', max_depth=30,\n",
        "           max_features='sqrt', max_leaf_nodes=None,\n",
        "           min_impurity_decrease=0.0, min_impurity_split=None,\n",
        "           min_samples_leaf=2, min_samples_split=5,\n",
        "           min_weight_fraction_leaf=0.0, n_estimators=200, n_jobs=1,\n",
        "           oob_score=False, random_state=None, verbose=0, warm_start=False)\n",
        "clf.fit(X_train,y_train)\n",
        "pred=clf.predict(X_test)\n",
        "rmsle(y_test,pred)"
      ],
      "execution_count": 0,
      "outputs": [
        {
          "output_type": "execute_result",
          "data": {
            "text/plain": [
              "117.60756593282527"
            ]
          },
          "metadata": {
            "tags": []
          },
          "execution_count": 52
        }
      ]
    },
    {
      "cell_type": "code",
      "metadata": {
        "id": "pIfE-_UkXKca",
        "colab_type": "code",
        "outputId": "3ba258c4-ea98-4d35-a4c1-8565c303825b",
        "colab": {
          "base_uri": "https://localhost:8080/",
          "height": 89
        }
      },
      "source": [
        "model_xgb = xgb.XGBRegressor(colsample_bytree=0.4603, gamma=0.0468, \n",
        "                             learning_rate=0.05, max_depth=3, \n",
        "                             min_child_weight=1.7817, n_estimators=2200,\n",
        "                             reg_alpha=0.4640, reg_lambda=0.8571,\n",
        "                             subsample=0.5213, silent=1,\n",
        "                             random_state =7, nthread = -1)\n",
        "model_xgb.fit(X_train,y_train)\n",
        "pred=model_xgb.predict(X_test)\n",
        "rmsle(y_test,pred)"
      ],
      "execution_count": 0,
      "outputs": [
        {
          "output_type": "stream",
          "text": [
            "/usr/local/lib/python3.6/dist-packages/xgboost/core.py:587: FutureWarning: Series.base is deprecated and will be removed in a future version\n",
            "  if getattr(data, 'base', None) is not None and \\\n"
          ],
          "name": "stderr"
        },
        {
          "output_type": "execute_result",
          "data": {
            "text/plain": [
              "117.4863253818126"
            ]
          },
          "metadata": {
            "tags": []
          },
          "execution_count": 55
        }
      ]
    },
    {
      "cell_type": "markdown",
      "metadata": {
        "id": "ygIHuKBeCkM0",
        "colab_type": "text"
      },
      "source": [
        "**K-Folds Cross Validation**"
      ]
    },
    {
      "cell_type": "code",
      "metadata": {
        "id": "B3RtQil2VtdH",
        "colab_type": "code",
        "colab": {}
      },
      "source": [
        "#Validation function\n",
        "n_folds = 5\n",
        "def rmsle_cv(model):\n",
        "    kf = KFold(n_folds, shuffle=True, random_state=42).get_n_splits(train.values)\n",
        "    rmse= np.sqrt(-cross_val_score(model, train.values, target, scoring=\"neg_mean_squared_error\", cv = kf))\n",
        "    return(rmse)"
      ],
      "execution_count": 0,
      "outputs": []
    },
    {
      "cell_type": "code",
      "metadata": {
        "id": "AinsYErYm1Qc",
        "colab_type": "code",
        "colab": {}
      },
      "source": [
        "from sklearn.pipeline import make_pipeline\n",
        "from sklearn.linear_model import ElasticNet, Lasso,  BayesianRidge, LassoLarsIC\n",
        "lasso = make_pipeline(RobustScaler(), Lasso(alpha =0.0005, random_state=1))\n",
        "ENet = make_pipeline(RobustScaler(), ElasticNet(alpha=0.0005, l1_ratio=.9, random_state=3))"
      ],
      "execution_count": 0,
      "outputs": []
    },
    {
      "cell_type": "code",
      "metadata": {
        "id": "5qHKg-LNm2OM",
        "colab_type": "code",
        "outputId": "441b418d-2bda-489a-913e-aad75c0afde7",
        "colab": {
          "base_uri": "https://localhost:8080/",
          "height": 69
        }
      },
      "source": [
        "score = rmsle_cv(lasso)\n",
        "print(\"\\nLasso score: {:.4f} ({:.4f})\\n\".format(score.mean(), score.std()))"
      ],
      "execution_count": 0,
      "outputs": [
        {
          "output_type": "stream",
          "text": [
            "\n",
            "Lasso score: 114.1345 (16.7857)\n",
            "\n"
          ],
          "name": "stdout"
        }
      ]
    },
    {
      "cell_type": "code",
      "metadata": {
        "id": "bwBS84LQoymC",
        "colab_type": "code",
        "outputId": "e023f270-919a-4459-b875-e5b518ed3986",
        "colab": {
          "base_uri": "https://localhost:8080/",
          "height": 159
        }
      },
      "source": [
        "score = rmsle_cv(ENet)\n",
        "print(\"\\nLasso score: {:.4f} ({:.4f})\\n\".format(score.mean(), score.std()))"
      ],
      "execution_count": 0,
      "outputs": [
        {
          "output_type": "stream",
          "text": [
            "/usr/local/lib/python3.6/dist-packages/sklearn/linear_model/coordinate_descent.py:475: ConvergenceWarning: Objective did not converge. You might want to increase the number of iterations. Duality gap: 188860827.32092, tolerance: 131200.3895013928\n",
            "  positive)\n",
            "/usr/local/lib/python3.6/dist-packages/sklearn/linear_model/coordinate_descent.py:475: ConvergenceWarning: Objective did not converge. You might want to increase the number of iterations. Duality gap: 151294900.65772605, tolerance: 110199.32592944975\n",
            "  positive)\n"
          ],
          "name": "stderr"
        },
        {
          "output_type": "stream",
          "text": [
            "\n",
            "Lasso score: 114.1340 (16.7861)\n",
            "\n"
          ],
          "name": "stdout"
        }
      ]
    },
    {
      "cell_type": "markdown",
      "metadata": {
        "id": "-GKPH7typIgI",
        "colab_type": "text"
      },
      "source": [
        "## Gradient Boosting technique"
      ]
    },
    {
      "cell_type": "markdown",
      "metadata": {
        "id": "NpWdAQLHllWK",
        "colab_type": "text"
      },
      "source": [
        "![alt text](https://cdn-images-1.medium.com/max/2600/1*A0b_ahXOrrijazzJengwYw.png)"
      ]
    },
    {
      "cell_type": "code",
      "metadata": {
        "id": "hpsofACya6Rs",
        "colab_type": "code",
        "colab": {}
      },
      "source": [
        "model_lgb = lgb.LGBMRegressor(objective='regression',num_leaves=5,\n",
        "                              learning_rate=0.05, n_estimators=720,\n",
        "                              max_bin = 55, bagging_fraction = 0.8,\n",
        "                              bagging_freq = 5, feature_fraction = 0.2319,\n",
        "                              feature_fraction_seed=9, bagging_seed=9,\n",
        "                              min_data_in_leaf =6, min_sum_hessian_in_leaf = 11)"
      ],
      "execution_count": 0,
      "outputs": []
    },
    {
      "cell_type": "code",
      "metadata": {
        "id": "Hc4XzDNXXvMU",
        "colab_type": "code",
        "outputId": "95027cfe-a12a-4aac-debb-0e388ce2e999",
        "colab": {
          "base_uri": "https://localhost:8080/",
          "height": 228
        }
      },
      "source": [
        "model_xgb.fit(train,target)"
      ],
      "execution_count": 0,
      "outputs": [
        {
          "output_type": "stream",
          "text": [
            "/usr/local/lib/python3.6/dist-packages/xgboost/core.py:587: FutureWarning: Series.base is deprecated and will be removed in a future version\n",
            "  if getattr(data, 'base', None) is not None and \\\n",
            "/usr/local/lib/python3.6/dist-packages/xgboost/core.py:588: FutureWarning: Series.base is deprecated and will be removed in a future version\n",
            "  data.base is not None and isinstance(data, np.ndarray) \\\n"
          ],
          "name": "stderr"
        },
        {
          "output_type": "execute_result",
          "data": {
            "text/plain": [
              "XGBRegressor(base_score=0.5, booster='gbtree', colsample_bylevel=1,\n",
              "             colsample_bynode=1, colsample_bytree=0.5, gamma=0.04,\n",
              "             importance_type='gain', learning_rate=0.02, max_delta_step=0,\n",
              "             max_depth=5, min_child_weight=1.5, missing=None, n_estimators=500,\n",
              "             n_jobs=1, nthread=-1, objective='reg:linear', random_state=0,\n",
              "             reg_alpha=0.6, reg_lambda=0.5, scale_pos_weight=1, seed=None,\n",
              "             silent=1, subsample=0.213, verbosity=1)"
            ]
          },
          "metadata": {
            "tags": []
          },
          "execution_count": 92
        }
      ]
    },
    {
      "cell_type": "code",
      "metadata": {
        "id": "LLNff5BGw3Kk",
        "colab_type": "code",
        "colab": {}
      },
      "source": [
        "pred=model_lgb.predict(test)"
      ],
      "execution_count": 0,
      "outputs": []
    },
    {
      "cell_type": "code",
      "metadata": {
        "id": "uTHi4C0lYT3E",
        "colab_type": "code",
        "colab": {}
      },
      "source": [
        "preds=pd.DataFrame(pred)"
      ],
      "execution_count": 0,
      "outputs": []
    },
    {
      "cell_type": "code",
      "metadata": {
        "id": "DM97WBGSYZzn",
        "colab_type": "code",
        "outputId": "442311ff-0bb6-4f30-e862-2546e597d262",
        "colab": {
          "base_uri": "https://localhost:8080/",
          "height": 300
        }
      },
      "source": [
        "\n",
        "preds.head(8)"
      ],
      "execution_count": 0,
      "outputs": [
        {
          "output_type": "execute_result",
          "data": {
            "text/html": [
              "<div>\n",
              "<style scoped>\n",
              "    .dataframe tbody tr th:only-of-type {\n",
              "        vertical-align: middle;\n",
              "    }\n",
              "\n",
              "    .dataframe tbody tr th {\n",
              "        vertical-align: top;\n",
              "    }\n",
              "\n",
              "    .dataframe thead th {\n",
              "        text-align: right;\n",
              "    }\n",
              "</style>\n",
              "<table border=\"1\" class=\"dataframe\">\n",
              "  <thead>\n",
              "    <tr style=\"text-align: right;\">\n",
              "      <th></th>\n",
              "      <th>0</th>\n",
              "    </tr>\n",
              "  </thead>\n",
              "  <tbody>\n",
              "    <tr>\n",
              "      <th>0</th>\n",
              "      <td>20.404209</td>\n",
              "    </tr>\n",
              "    <tr>\n",
              "      <th>1</th>\n",
              "      <td>69.377113</td>\n",
              "    </tr>\n",
              "    <tr>\n",
              "      <th>2</th>\n",
              "      <td>42.475952</td>\n",
              "    </tr>\n",
              "    <tr>\n",
              "      <th>3</th>\n",
              "      <td>14.125857</td>\n",
              "    </tr>\n",
              "    <tr>\n",
              "      <th>4</th>\n",
              "      <td>14.516754</td>\n",
              "    </tr>\n",
              "    <tr>\n",
              "      <th>5</th>\n",
              "      <td>33.850037</td>\n",
              "    </tr>\n",
              "    <tr>\n",
              "      <th>6</th>\n",
              "      <td>29.967596</td>\n",
              "    </tr>\n",
              "    <tr>\n",
              "      <th>7</th>\n",
              "      <td>51.208073</td>\n",
              "    </tr>\n",
              "  </tbody>\n",
              "</table>\n",
              "</div>"
            ],
            "text/plain": [
              "           0\n",
              "0  20.404209\n",
              "1  69.377113\n",
              "2  42.475952\n",
              "3  14.125857\n",
              "4  14.516754\n",
              "5  33.850037\n",
              "6  29.967596\n",
              "7  51.208073"
            ]
          },
          "metadata": {
            "tags": []
          },
          "execution_count": 95
        }
      ]
    },
    {
      "cell_type": "code",
      "metadata": {
        "id": "en8JnbwWYivG",
        "colab_type": "code",
        "outputId": "986411ff-ba55-484f-c3fb-44fb14292b02",
        "colab": {
          "base_uri": "https://localhost:8080/",
          "height": 206
        }
      },
      "source": [
        "sub.head()"
      ],
      "execution_count": 0,
      "outputs": [
        {
          "output_type": "execute_result",
          "data": {
            "text/html": [
              "<div>\n",
              "<style scoped>\n",
              "    .dataframe tbody tr th:only-of-type {\n",
              "        vertical-align: middle;\n",
              "    }\n",
              "\n",
              "    .dataframe tbody tr th {\n",
              "        vertical-align: top;\n",
              "    }\n",
              "\n",
              "    .dataframe thead th {\n",
              "        text-align: right;\n",
              "    }\n",
              "</style>\n",
              "<table border=\"1\" class=\"dataframe\">\n",
              "  <thead>\n",
              "    <tr style=\"text-align: right;\">\n",
              "      <th></th>\n",
              "      <th>ID</th>\n",
              "      <th>target</th>\n",
              "    </tr>\n",
              "  </thead>\n",
              "  <tbody>\n",
              "    <tr>\n",
              "      <th>0</th>\n",
              "      <td>test_id_0</td>\n",
              "      <td>2470</td>\n",
              "    </tr>\n",
              "    <tr>\n",
              "      <th>1</th>\n",
              "      <td>test_id_1</td>\n",
              "      <td>2944</td>\n",
              "    </tr>\n",
              "    <tr>\n",
              "      <th>2</th>\n",
              "      <td>test_id_2</td>\n",
              "      <td>2585</td>\n",
              "    </tr>\n",
              "    <tr>\n",
              "      <th>3</th>\n",
              "      <td>test_id_3</td>\n",
              "      <td>3264</td>\n",
              "    </tr>\n",
              "    <tr>\n",
              "      <th>4</th>\n",
              "      <td>test_id_4</td>\n",
              "      <td>1369</td>\n",
              "    </tr>\n",
              "  </tbody>\n",
              "</table>\n",
              "</div>"
            ],
            "text/plain": [
              "          ID  target\n",
              "0  test_id_0    2470\n",
              "1  test_id_1    2944\n",
              "2  test_id_2    2585\n",
              "3  test_id_3    3264\n",
              "4  test_id_4    1369"
            ]
          },
          "metadata": {
            "tags": []
          },
          "execution_count": 96
        }
      ]
    },
    {
      "cell_type": "code",
      "metadata": {
        "id": "eh5HFwiZYbH8",
        "colab_type": "code",
        "colab": {}
      },
      "source": [
        "\n",
        "submission = pd.DataFrame({\n",
        "        \"ID\": sub[\"ID\"],\n",
        "        \"target\": preds[0]\n",
        "    })\n"
      ],
      "execution_count": 0,
      "outputs": []
    },
    {
      "cell_type": "code",
      "metadata": {
        "id": "hQJNAz0bY3l7",
        "colab_type": "code",
        "colab": {}
      },
      "source": [
        "submission.to_csv('his5.csv', index=False)\n"
      ],
      "execution_count": 0,
      "outputs": []
    },
    {
      "cell_type": "code",
      "metadata": {
        "id": "f7F4i-jyscjB",
        "colab_type": "code",
        "colab": {}
      },
      "source": [
        ""
      ],
      "execution_count": 0,
      "outputs": []
    }
  ]
}